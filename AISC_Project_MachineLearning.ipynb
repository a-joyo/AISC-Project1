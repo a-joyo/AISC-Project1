{
  "nbformat": 4,
  "nbformat_minor": 0,
  "metadata": {
    "colab": {
      "provenance": [],
      "authorship_tag": "ABX9TyM+QHscszF+QXcguBIVb94e",
      "include_colab_link": true
    },
    "kernelspec": {
      "name": "python3",
      "display_name": "Python 3"
    },
    "language_info": {
      "name": "python"
    }
  },
  "cells": [
    {
      "cell_type": "markdown",
      "metadata": {
        "id": "view-in-github",
        "colab_type": "text"
      },
      "source": [
        "<a href=\"https://colab.research.google.com/github/a-joyo/AISC-Project1/blob/main/AISC_Project_MachineLearning.ipynb\" target=\"_parent\"><img src=\"https://colab.research.google.com/assets/colab-badge.svg\" alt=\"Open In Colab\"/></a>"
      ]
    },
    {
      "cell_type": "code",
      "source": [
        "#import Dependencies\n",
        "import numpy as np # numpy arrays, more effiecent for math and ML\n",
        "import pandas as pd # used to read csv data\n",
        "\n",
        "from sklearn.model_selection import train_test_split # split data for testing and training\n",
        "from sklearn.svm import SVC #SVC linear ML algorithm\n",
        "from sklearn.metrics import accuracy_score # tet how accurate our alogorithm is"
      ],
      "metadata": {
        "id": "Lp5p3GF31Pbs"
      },
      "execution_count": 3,
      "outputs": []
    },
    {
      "cell_type": "code",
      "source": [
        "#load dataset\n",
        "car_data = pd.read_csv(\"car_data.csv\")"
      ],
      "metadata": {
        "id": "Ya8wOCFP2KQ1"
      },
      "execution_count": 4,
      "outputs": []
    },
    {
      "cell_type": "code",
      "source": [
        "car_data.head()"
      ],
      "metadata": {
        "id": "axjQ-QtO3Dd9"
      },
      "execution_count": null,
      "outputs": []
    },
    {
      "cell_type": "code",
      "source": [
        "car_data.tail()"
      ],
      "metadata": {
        "id": "Nih5J-EB3d_N"
      },
      "execution_count": null,
      "outputs": []
    },
    {
      "cell_type": "code",
      "source": [
        "car_data.shape"
      ],
      "metadata": {
        "colab": {
          "base_uri": "https://localhost:8080/"
        },
        "id": "mYYVr0sQ3h8w",
        "outputId": "8182df79-d1b8-465f-e59f-192423655255"
      },
      "execution_count": 7,
      "outputs": [
        {
          "output_type": "execute_result",
          "data": {
            "text/plain": [
              "(11914, 16)"
            ]
          },
          "metadata": {},
          "execution_count": 7
        }
      ]
    },
    {
      "cell_type": "code",
      "source": [
        "temp_X = car_data.dropna().drop(columns=[\"Make\", \"Model\", \"Market Category\", \"Engine Fuel Type\", \"Driven_Wheels\", \"Transmission Type\", \"Vehicle Style\", \"MSRP\"], axis = 1)\n",
        "# SVM model only deals with numbers so any non number values like vehicle size have to be replaced\n",
        "temp_X[\"Vehicle Size\"].replace(to_replace={\"Compact\":0, \"Midsize\":1, \"Large\":2}, inplace=True)\n",
        "\n"
      ],
      "metadata": {
        "id": "RV7RwX1p6P7_"
      },
      "execution_count": 5,
      "outputs": []
    },
    {
      "cell_type": "code",
      "source": [
        "Y = []\n",
        "X = []\n",
        "budget = 20000 # how much you are willing to spend on a car\n",
        "\n",
        "car_prices = car_data.dropna()[\"MSRP\"] # extract the price column from car data\n",
        "\n",
        "for i in range(len(car_prices)):\n",
        "  try:\n",
        "    test = car_prices[i]\n",
        "  except:\n",
        "    continue\n",
        "  Y.append(car_prices[i])\n",
        "  X.append(temp_X.iloc[i])\n",
        "\n"
      ],
      "metadata": {
        "id": "GG0k2mmg7igp"
      },
      "execution_count": 6,
      "outputs": []
    },
    {
      "cell_type": "code",
      "source": [
        "#we split the data into training and testing data\n",
        "# training data will create model and testing data will tel us how good our training was\n",
        "X_train, X_test, Y_train, Y_test = train_test_split(X, Y, test_size = 0.8, random_state =2)\n"
      ],
      "metadata": {
        "id": "WKgGwrhA_X-M"
      },
      "execution_count": 7,
      "outputs": []
    },
    {
      "cell_type": "code",
      "source": [
        "# load model\n",
        "# we are using a support vector machine with a linear hyperplane\n",
        "# used to segregate data into cars within our budget, and cars not in our budget\n",
        "model = SVC(kernel = \"linear\")"
      ],
      "metadata": {
        "id": "AcJTF0wgFdAu"
      },
      "execution_count": 8,
      "outputs": []
    },
    {
      "cell_type": "code",
      "source": [
        "# training model with the SVM model\n",
        "X_np = np.asarray(X_train)\n",
        "Y_np = np.asarray(Y_train)\n",
        "model.fit(X_np, Y_np)"
      ],
      "metadata": {
        "id": "krOA2nqqFvQJ"
      },
      "execution_count": null,
      "outputs": []
    },
    {
      "cell_type": "code",
      "source": [
        "X_train_prediction = model.predict(X_train) # asking it to make predicuton into varible x trIN PREDICITON\n",
        "training_data_accuracy = accuracy_score(X_train_prediction, Y_train) # FEED IT  results we got from model and results we expect to get\n",
        "print(\"Accuracy on training data: \", training_data_accuracy)"
      ],
      "metadata": {
        "id": "KiFz9TLbbfl0"
      },
      "execution_count": null,
      "outputs": []
    },
    {
      "cell_type": "code",
      "source": [
        "X_test_prediction = model.predict(X_test) #same thing with testing, comparing testing data\n",
        "test_data_accuracy = accuracy_score(X_test_prediction, Y_test)\n",
        "print(\"Accuracy on testing data: \", test_data_accuracy) #if low accruancy, ML alogrithm or data isnt  isnt good"
      ],
      "metadata": {
        "id": "D2gbX4I8c0_S"
      },
      "execution_count": null,
      "outputs": []
    },
    {
      "cell_type": "code",
      "source": [
        "#format data into array\n",
        "#input_data = [year, horsepower, engine cylinders, # of doors, vehicle size: {large =2, midsize = 1, compact = 0}, highway mpg, city mpg, popularity]\n",
        "input_data_affordable = [2011, 200, 4, 4, 1, 12, 15, 30]\n",
        "input_data_expensive = [2019, 250, 4, 4, 1, 20, 25, 300]\n",
        "budget = 30000"
      ],
      "metadata": {
        "id": "cYXmXQHpdvDz"
      },
      "execution_count": null,
      "outputs": []
    },
    {
      "cell_type": "code",
      "source": [
        "#changing input data to a numpy array\n",
        "input_data_as_numpy_arr = np.asarray(input_data_affordable)\n",
        "\n",
        "#reshape the numpy array as were predicting for one instance; into one dimensional array, bc numpy are default multidimensional\n",
        "input_data_reshaped = input_data_as_numpy_arr.reshape(1, -1)\n",
        "\n",
        "\n",
        "prediction = model.predict(input_data_reshaped)\n",
        "print(prediction[0])\n",
        "if prediction > budget:\n",
        "  print(f\"This car is probobly beyond your budget of {budget}\")\n",
        "else:\n",
        "  print(\"You can expect to buy this type of car given your budget\")"
      ],
      "metadata": {
        "id": "nXNOkUKQe3Ab"
      },
      "execution_count": null,
      "outputs": []
    },
    {
      "cell_type": "code",
      "source": [
        "print (\"Describe your ideal car\\n\")\n",
        "year = input (\"What year car: \")\n",
        "horse_power = input (\"How much Horsepower: \")\n",
        "engine_cylinders = input (\"How many engine cylinders: \")\n",
        "num_doors = input (\"Enter number of doors: \")\n",
        "car_size = input (\"What size vehicle (0 for compact, 1 for midsize, 2 for large): \")\n",
        "highway_mpg = input (\"How much mpg on the higway: \")\n",
        "city_mpg = input (\"How much mpg in city streets: \")\n",
        "popularity = input (\"what popularity level: \")\n",
        "\n",
        "input_data = [year, horse_power, engine_cylinders, num_doors, car_size, highway_mpg, city_mpg, popularity]"
      ],
      "metadata": {
        "id": "hm3LWhNghAGf"
      },
      "execution_count": null,
      "outputs": []
    }
  ]
}